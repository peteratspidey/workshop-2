{
 "cells": [
  {
   "cell_type": "markdown",
   "id": "7a79d805-484d-413d-bf66-cf15203839d8",
   "metadata": {},
   "source": [
    "# print\n"
   ]
  },
  {
   "cell_type": "code",
   "execution_count": 73,
   "id": "89d67e07-ff13-40fb-b338-1b9f08cb70cb",
   "metadata": {},
   "outputs": [
    {
     "name": "stdout",
     "output_type": "stream",
     "text": [
      "hello vivek prakash\n"
     ]
    }
   ],
   "source": [
    "print(\"hello vivek prakash\")\n"
   ]
  },
  {
   "cell_type": "markdown",
   "id": "1583912e-436c-41f1-8d8b-fd7f756b67ec",
   "metadata": {},
   "source": [
    "# adding 2 values"
   ]
  },
  {
   "cell_type": "code",
   "execution_count": 74,
   "id": "308a1cf3-9688-41ae-856b-ee526a225f46",
   "metadata": {
    "scrolled": true
   },
   "outputs": [
    {
     "data": {
      "text/plain": [
       "-4"
      ]
     },
     "execution_count": 74,
     "metadata": {},
     "output_type": "execute_result"
    }
   ],
   "source": [
    "2-6"
   ]
  },
  {
   "cell_type": "markdown",
   "id": "d0894f65-ea3c-42ec-9694-bf3d53a239c8",
   "metadata": {},
   "source": [
    "## data types and variables\n",
    "`int` - interger type\n",
    "\n",
    "`float` - decimel type\n",
    "\n",
    "`boolean` - true/false\n",
    "\n",
    "`string` - aphabetical words\n"
   ]
  },
  {
   "cell_type": "code",
   "execution_count": 75,
   "id": "117a32fd-76a6-4ace-8795-ee01160a49ee",
   "metadata": {},
   "outputs": [
    {
     "name": "stdout",
     "output_type": "stream",
     "text": [
      "30\n"
     ]
    }
   ],
   "source": [
    "a = 10\n",
    "b= 20\n",
    "c = a + b\n",
    "print(c)"
   ]
  },
  {
   "cell_type": "markdown",
   "id": "4b6b4cc7-05cd-4645-8034-7b23fabe8d35",
   "metadata": {},
   "source": [
    "## string"
   ]
  },
  {
   "cell_type": "code",
   "execution_count": 76,
   "id": "edc173e5-9be2-4201-8135-191f8d3e5289",
   "metadata": {},
   "outputs": [
    {
     "data": {
      "text/plain": [
       "'vivek'"
      ]
     },
     "execution_count": 76,
     "metadata": {},
     "output_type": "execute_result"
    }
   ],
   "source": [
    "my_variable = \"vivek\"\n",
    "my_variable\n"
   ]
  },
  {
   "cell_type": "markdown",
   "id": "f568d3bf-d836-416c-8e47-77bd53ff503e",
   "metadata": {},
   "source": [
    "## declare a string"
   ]
  },
  {
   "cell_type": "code",
   "execution_count": 77,
   "id": "1334820c-7540-4a4a-b191-ea6677d6bf78",
   "metadata": {},
   "outputs": [],
   "source": [
    "my_string = \"hello world\""
   ]
  },
  {
   "cell_type": "code",
   "execution_count": 78,
   "id": "795b6334-c1df-4e6d-857f-fadabefee683",
   "metadata": {},
   "outputs": [
    {
     "name": "stdout",
     "output_type": "stream",
     "text": [
      "hello world\n"
     ]
    }
   ],
   "source": [
    "print(my_string)"
   ]
  },
  {
   "cell_type": "code",
   "execution_count": 79,
   "id": "d469ce88-3d7b-43db-a45c-c3fd8353af40",
   "metadata": {},
   "outputs": [
    {
     "data": {
      "text/plain": [
       "str"
      ]
     },
     "execution_count": 79,
     "metadata": {},
     "output_type": "execute_result"
    }
   ],
   "source": [
    " type(my_string)"
   ]
  },
  {
   "cell_type": "markdown",
   "id": "93eea0df-4f62-4972-97db-1bf5003fb2e5",
   "metadata": {},
   "source": [
    "## len function\n"
   ]
  },
  {
   "cell_type": "code",
   "execution_count": 80,
   "id": "a04cbe36-0ca1-47ab-9752-a12f248c799e",
   "metadata": {},
   "outputs": [
    {
     "data": {
      "text/plain": [
       "11"
      ]
     },
     "execution_count": 80,
     "metadata": {},
     "output_type": "execute_result"
    }
   ],
   "source": [
    "len(my_string)"
   ]
  },
  {
   "cell_type": "markdown",
   "id": "64af7e70-cd59-4e70-bcc6-05edfb27c392",
   "metadata": {},
   "source": [
    "## replacing the string"
   ]
  },
  {
   "cell_type": "code",
   "execution_count": 81,
   "id": "7c87d744-8eb6-4e76-84e1-62999e9313fb",
   "metadata": {},
   "outputs": [
    {
     "data": {
      "text/plain": [
       "'hello vivek'"
      ]
     },
     "execution_count": 81,
     "metadata": {},
     "output_type": "execute_result"
    }
   ],
   "source": [
    "my_string.replace(\"world\", \"vivek\")"
   ]
  },
  {
   "cell_type": "markdown",
   "id": "69155bcc-9726-4620-a77c-6b5899647f48",
   "metadata": {},
   "source": [
    "## indexing\n"
   ]
  },
  {
   "cell_type": "code",
   "execution_count": 82,
   "id": "2f304117-b889-4d03-9b6d-afaf1843f978",
   "metadata": {},
   "outputs": [
    {
     "data": {
      "text/plain": [
       "'h'"
      ]
     },
     "execution_count": 82,
     "metadata": {},
     "output_type": "execute_result"
    }
   ],
   "source": [
    "my_string[0]\n"
   ]
  },
  {
   "cell_type": "code",
   "execution_count": 83,
   "id": "b461e3c2-9b37-4337-b3d9-49657155d7a8",
   "metadata": {},
   "outputs": [
    {
     "data": {
      "text/plain": [
       "' '"
      ]
     },
     "execution_count": 83,
     "metadata": {},
     "output_type": "execute_result"
    }
   ],
   "source": [
    "my_string[5]"
   ]
  },
  {
   "cell_type": "code",
   "execution_count": 84,
   "id": "da26da36-fd9a-4954-ba52-03b7c887f3fc",
   "metadata": {},
   "outputs": [
    {
     "name": "stdout",
     "output_type": "stream",
     "text": [
      "h\n",
      " \n",
      "hel\n",
      "hl\n"
     ]
    }
   ],
   "source": [
    "print(my_string[0])\n",
    "print(my_string[5])\n",
    "print(my_string[0:3])\n",
    "print(my_string[0:3:2])\n"
   ]
  },
  {
   "cell_type": "markdown",
   "id": "751f8d9f-49c5-44e0-bbff-e332ea785f74",
   "metadata": {},
   "source": [
    "## slicing the string from the end with the given step size"
   ]
  },
  {
   "cell_type": "code",
   "execution_count": 85,
   "id": "d9cb3f5f-16bb-4ee7-98ef-a78ce719d1ad",
   "metadata": {},
   "outputs": [
    {
     "name": "stdout",
     "output_type": "stream",
     "text": [
      "dlr\n"
     ]
    }
   ],
   "source": [
    "print(my_string[-1:-4:-1])\n"
   ]
  },
  {
   "cell_type": "markdown",
   "id": "086e2ff2-a2ea-42a0-8c94-199e686d78b6",
   "metadata": {},
   "source": [
    "## concatenate the string"
   ]
  },
  {
   "cell_type": "code",
   "execution_count": 86,
   "id": "3d76ac81-e5fe-4a5b-b2ca-b493f9d7c310",
   "metadata": {},
   "outputs": [
    {
     "name": "stdout",
     "output_type": "stream",
     "text": [
      "hello world how are  you\n"
     ]
    }
   ],
   "source": [
    "print(\"hello\",\"world\", \"how\", \"are\" ,\" you\")"
   ]
  },
  {
   "cell_type": "code",
   "execution_count": 87,
   "id": "6dfa7ed1-12dd-4f07-99e6-eca051ec8250",
   "metadata": {},
   "outputs": [
    {
     "name": "stdout",
     "output_type": "stream",
     "text": [
      "hellovivekhowareyou\n"
     ]
    }
   ],
   "source": [
    "print (\"hello\"+\"vivek\"+ \"how\" +\"are\"+ \"you\")"
   ]
  },
  {
   "cell_type": "markdown",
   "id": "8a3fb099-99ac-4dd4-89e7-76eae369fcf6",
   "metadata": {},
   "source": [
    "## accessing the elemnts in the print statement\n"
   ]
  },
  {
   "cell_type": "code",
   "execution_count": 88,
   "id": "00f4e1f9-ccf0-48c2-92bf-31f17f215258",
   "metadata": {},
   "outputs": [
    {
     "name": "stdout",
     "output_type": "stream",
     "text": [
      " the value is : 3.14\n"
     ]
    }
   ],
   "source": [
    "value = 3.14\n",
    "print(\" the value is :\",value)"
   ]
  },
  {
   "cell_type": "code",
   "execution_count": 89,
   "id": "c214c3e2-866e-484a-b4c1-12bf999dd5de",
   "metadata": {},
   "outputs": [
    {
     "name": "stdout",
     "output_type": "stream",
     "text": [
      "the value is : 3.1\n",
      "the value is : 3.14\n",
      "the value is : 3.140\n"
     ]
    }
   ],
   "source": [
    "print(\"the value is : %.1f\"  %value)\n",
    "print (\"the value is : %.2f\" %value)\n",
    "print (\"the value is : %.3f\" %value)\n"
   ]
  },
  {
   "cell_type": "markdown",
   "id": "7804c064-fb51-40f6-a05e-7c86ce7eb1ae",
   "metadata": {},
   "source": [
    "# list\n"
   ]
  },
  {
   "cell_type": "code",
   "execution_count": 90,
   "id": "a342fbec-1357-4c6d-9cb6-14fa1c86c0f5",
   "metadata": {},
   "outputs": [
    {
     "name": "stdout",
     "output_type": "stream",
     "text": [
      "[225, 335, 445]\n"
     ]
    }
   ],
   "source": [
    "my_list =[ 225,335,445]\n",
    "print(my_list)"
   ]
  },
  {
   "cell_type": "code",
   "execution_count": 91,
   "id": "2423a671-61eb-4cd5-8f10-035a9e1d9f68",
   "metadata": {},
   "outputs": [
    {
     "data": {
      "text/plain": [
       "[225, 335]"
      ]
     },
     "execution_count": 91,
     "metadata": {},
     "output_type": "execute_result"
    }
   ],
   "source": [
    "my_list[0:2]\n"
   ]
  },
  {
   "cell_type": "code",
   "execution_count": 92,
   "id": "b8237925-53bc-4652-a9b9-23058b40e47f",
   "metadata": {},
   "outputs": [
    {
     "data": {
      "text/plain": [
       "[0, 1, 2, 3, 4, 5, 6, 7, 8, 9]"
      ]
     },
     "execution_count": 92,
     "metadata": {},
     "output_type": "execute_result"
    }
   ],
   "source": [
    "list(range(10))\n"
   ]
  },
  {
   "cell_type": "code",
   "execution_count": 93,
   "id": "2478db96-2220-4039-a126-0f50c6c7d914",
   "metadata": {},
   "outputs": [],
   "source": [
    "my_new = [] # create a empty list\n"
   ]
  },
  {
   "cell_type": "code",
   "execution_count": 94,
   "id": "2c66cad9-192d-44ae-b065-efc5d025d4c9",
   "metadata": {},
   "outputs": [
    {
     "name": "stdout",
     "output_type": "stream",
     "text": [
      "[667, 668, 669]\n"
     ]
    }
   ],
   "source": [
    "my_new.append(667)\n",
    "my_new.append(668)\n",
    "my_new.append(669)\n",
    "print(my_new)\n"
   ]
  },
  {
   "cell_type": "markdown",
   "id": "141dc0a6-0a57-497b-a763-0f318e17fa38",
   "metadata": {},
   "source": [
    "## for loop in my list\n"
   ]
  },
  {
   "cell_type": "code",
   "execution_count": 95,
   "id": "882efccf-08b9-44aa-b72c-498e51f645c4",
   "metadata": {},
   "outputs": [
    {
     "name": "stdout",
     "output_type": "stream",
     "text": [
      "667\n",
      "668\n",
      "669\n"
     ]
    }
   ],
   "source": [
    "for i in my_new:\n",
    "    print(i)"
   ]
  },
  {
   "cell_type": "code",
   "execution_count": 96,
   "id": "8f29e352-41fe-41ae-a5e8-b1334c45766d",
   "metadata": {},
   "outputs": [
    {
     "name": "stdout",
     "output_type": "stream",
     "text": [
      "0\n",
      "1\n",
      "2\n",
      "3\n",
      "4\n"
     ]
    }
   ],
   "source": [
    "for i in range(5):\n",
    "    print(i)"
   ]
  },
  {
   "cell_type": "code",
   "execution_count": 97,
   "id": "4ac990d4-1d69-4fb8-b495-c77f5cf09855",
   "metadata": {},
   "outputs": [
    {
     "data": {
      "text/plain": [
       "[0, 1, 2, 3, 4]"
      ]
     },
     "execution_count": 97,
     "metadata": {},
     "output_type": "execute_result"
    }
   ],
   "source": [
    "[i for i in range(5)]\n"
   ]
  },
  {
   "cell_type": "code",
   "execution_count": 98,
   "id": "a8ea2c9f-638d-42c0-876a-2f293316e4ab",
   "metadata": {},
   "outputs": [
    {
     "data": {
      "text/plain": [
       "[667, 668, 669]"
      ]
     },
     "execution_count": 98,
     "metadata": {},
     "output_type": "execute_result"
    }
   ],
   "source": [
    "[i for i in my_new]\n"
   ]
  },
  {
   "cell_type": "markdown",
   "id": "4e21dbf4-b193-416b-8718-34d1f57a8b66",
   "metadata": {},
   "source": [
    "## adding some fix values to the each items of the list"
   ]
  },
  {
   "cell_type": "code",
   "execution_count": 99,
   "id": "3353535d-49ac-4a13-90a8-1441b25e9cdc",
   "metadata": {},
   "outputs": [
    {
     "data": {
      "text/plain": [
       "[2, 3, 4, 5, 6]"
      ]
     },
     "execution_count": 99,
     "metadata": {},
     "output_type": "execute_result"
    }
   ],
   "source": [
    "[i+2 for i in range(5)]"
   ]
  },
  {
   "cell_type": "markdown",
   "id": "be0d1a56-3b7f-4651-a8fd-53933c93d9f6",
   "metadata": {},
   "source": [
    "## making a new list of the all items after the loop"
   ]
  },
  {
   "cell_type": "code",
   "execution_count": 100,
   "id": "38ec80a8-d504-40a8-b615-a7efaef9dde4",
   "metadata": {},
   "outputs": [
    {
     "name": "stdout",
     "output_type": "stream",
     "text": [
      "[0, 1, 2, 3, 4]\n",
      "[667, 668, 669]\n"
     ]
    }
   ],
   "source": [
    "ls= [x for x in range(5)]\n",
    "print(ls)\n",
    "ls2 = [x for x in my_new]\n",
    "print(ls2)"
   ]
  },
  {
   "cell_type": "code",
   "execution_count": 101,
   "id": "ea49660c-4bae-41d7-a528-8616e931ffbc",
   "metadata": {},
   "outputs": [
    {
     "data": {
      "text/plain": [
       "[0, 1, 4, 9, 16]"
      ]
     },
     "execution_count": 101,
     "metadata": {},
     "output_type": "execute_result"
    }
   ],
   "source": [
    "ls3 = [i*i for i in range(5)]\n",
    "ls3"
   ]
  },
  {
   "cell_type": "markdown",
   "id": "b772c81a-5d5d-4907-96e2-76e5135a9b8c",
   "metadata": {},
   "source": [
    "## dictionary\n",
    "- unordered set of key and values\n",
    "- key is the unique identifier for the value\n",
    "  "
   ]
  },
  {
   "cell_type": "code",
   "execution_count": 103,
   "id": "3993ca1b-1b24-4861-a470-7f68edef2a95",
   "metadata": {},
   "outputs": [
    {
     "data": {
      "text/plain": [
       "{'vivek': 9968791078,\n",
       " 'jatin': 9899588314,\n",
       " 'yash': 8860292541,\n",
       " 'didi': 8130466185}"
      ]
     },
     "execution_count": 103,
     "metadata": {},
     "output_type": "execute_result"
    }
   ],
   "source": [
    "phone = {\"vivek\":9968791078,\"jatin\":9899588314, \"yash\":8860292541, \"didi\": 8130466185}\n",
    "phone\n"
   ]
  },
  {
   "cell_type": "code",
   "execution_count": 104,
   "id": "5033847e-836d-471a-b317-1e3d5fe8427f",
   "metadata": {},
   "outputs": [
    {
     "name": "stdout",
     "output_type": "stream",
     "text": [
      "8860292541\n"
     ]
    }
   ],
   "source": [
    "print(phone[\"yash\"])"
   ]
  },
  {
   "cell_type": "code",
   "execution_count": 105,
   "id": "3b43749e-d55a-4444-96d0-dff44ab684f2",
   "metadata": {},
   "outputs": [
    {
     "data": {
      "text/plain": [
       "dict_keys(['vivek', 'jatin', 'yash', 'didi'])"
      ]
     },
     "execution_count": 105,
     "metadata": {},
     "output_type": "execute_result"
    }
   ],
   "source": [
    "phone.keys()"
   ]
  },
  {
   "cell_type": "code",
   "execution_count": 107,
   "id": "d3be9ad9-001f-4e6b-93e2-b52fc8a8bc0c",
   "metadata": {},
   "outputs": [
    {
     "data": {
      "text/plain": [
       "dict_values([9968791078, 9899588314, 8860292541, 8130466185])"
      ]
     },
     "execution_count": 107,
     "metadata": {},
     "output_type": "execute_result"
    }
   ],
   "source": [
    "phone.values()\n"
   ]
  },
  {
   "cell_type": "code",
   "execution_count": null,
   "id": "8041743c-e300-446d-b433-43251413c9f6",
   "metadata": {},
   "outputs": [],
   "source": []
  },
  {
   "cell_type": "code",
   "execution_count": null,
   "id": "f561312d-4173-4bec-9934-5bc9d1247f2b",
   "metadata": {},
   "outputs": [],
   "source": []
  },
  {
   "cell_type": "code",
   "execution_count": null,
   "id": "2966f3c7-7fca-4f8c-aa7b-a7a60dde8fa1",
   "metadata": {},
   "outputs": [],
   "source": []
  }
 ],
 "metadata": {
  "kernelspec": {
   "display_name": "Python 3 (ipykernel)",
   "language": "python",
   "name": "python3"
  },
  "language_info": {
   "codemirror_mode": {
    "name": "ipython",
    "version": 3
   },
   "file_extension": ".py",
   "mimetype": "text/x-python",
   "name": "python",
   "nbconvert_exporter": "python",
   "pygments_lexer": "ipython3",
   "version": "3.10.12"
  }
 },
 "nbformat": 4,
 "nbformat_minor": 5
}
