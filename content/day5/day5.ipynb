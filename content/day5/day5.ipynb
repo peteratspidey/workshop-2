{
 "cells": [
  {
   "cell_type": "markdown",
   "id": "7a79d805-484d-413d-bf66-cf15203839d8",
   "metadata": {},
   "source": [
    "# this is the markdown section \n",
    "- printing the string\n"
   ]
  },
  {
   "cell_type": "code",
   "execution_count": 14,
   "id": "89d67e07-ff13-40fb-b338-1b9f08cb70cb",
   "metadata": {},
   "outputs": [
    {
     "name": "stdout",
     "output_type": "stream",
     "text": [
      "hello vivek prakash\n"
     ]
    }
   ],
   "source": [
    "print(\"hello vivek prakash\")\n"
   ]
  },
  {
   "cell_type": "markdown",
   "id": "1583912e-436c-41f1-8d8b-fd7f756b67ec",
   "metadata": {},
   "source": [
    "# adding 2 values"
   ]
  },
  {
   "cell_type": "code",
   "execution_count": 9,
   "id": "308a1cf3-9688-41ae-856b-ee526a225f46",
   "metadata": {
    "scrolled": true
   },
   "outputs": [
    {
     "data": {
      "text/plain": [
       "-4"
      ]
     },
     "execution_count": 9,
     "metadata": {},
     "output_type": "execute_result"
    }
   ],
   "source": [
    "2-6"
   ]
  },
  {
   "cell_type": "markdown",
   "id": "d0894f65-ea3c-42ec-9694-bf3d53a239c8",
   "metadata": {},
   "source": [
    "## data types and variables\n",
    "`int` - interger type\n",
    "\n",
    "`float` - decimel type\n",
    "\n",
    "`boolean` - true/false\n",
    "\n",
    "`string` - aphabetical words\n"
   ]
  },
  {
   "cell_type": "code",
   "execution_count": 15,
   "id": "117a32fd-76a6-4ace-8795-ee01160a49ee",
   "metadata": {},
   "outputs": [
    {
     "name": "stdout",
     "output_type": "stream",
     "text": [
      "30\n"
     ]
    }
   ],
   "source": [
    "a = 10\n",
    "b= 20\n",
    "c = a + b\n",
    "print(c)"
   ]
  },
  {
   "cell_type": "code",
   "execution_count": 18,
   "id": "edc173e5-9be2-4201-8135-191f8d3e5289",
   "metadata": {},
   "outputs": [
    {
     "data": {
      "text/plain": [
       "'vivek'"
      ]
     },
     "execution_count": 18,
     "metadata": {},
     "output_type": "execute_result"
    }
   ],
   "source": [
    "my_variable = \"vivek\"\n",
    "my_variable\n"
   ]
  },
  {
   "cell_type": "markdown",
   "id": "f568d3bf-d836-416c-8e47-77bd53ff503e",
   "metadata": {},
   "source": [
    "# declare a string"
   ]
  },
  {
   "cell_type": "code",
   "execution_count": 20,
   "id": "1334820c-7540-4a4a-b191-ea6677d6bf78",
   "metadata": {},
   "outputs": [],
   "source": [
    "my_string = \"hello world\""
   ]
  },
  {
   "cell_type": "code",
   "execution_count": 21,
   "id": "795b6334-c1df-4e6d-857f-fadabefee683",
   "metadata": {},
   "outputs": [
    {
     "name": "stdout",
     "output_type": "stream",
     "text": [
      "hello world\n"
     ]
    }
   ],
   "source": [
    "print(my_string)"
   ]
  },
  {
   "cell_type": "code",
   "execution_count": 22,
   "id": "d469ce88-3d7b-43db-a45c-c3fd8353af40",
   "metadata": {},
   "outputs": [
    {
     "data": {
      "text/plain": [
       "str"
      ]
     },
     "execution_count": 22,
     "metadata": {},
     "output_type": "execute_result"
    }
   ],
   "source": [
    " type(my_string)"
   ]
  },
  {
   "cell_type": "markdown",
   "id": "93eea0df-4f62-4972-97db-1bf5003fb2e5",
   "metadata": {},
   "source": [
    "# len function\n"
   ]
  },
  {
   "cell_type": "code",
   "execution_count": 23,
   "id": "a04cbe36-0ca1-47ab-9752-a12f248c799e",
   "metadata": {},
   "outputs": [
    {
     "data": {
      "text/plain": [
       "11"
      ]
     },
     "execution_count": 23,
     "metadata": {},
     "output_type": "execute_result"
    }
   ],
   "source": [
    "len(my_string)"
   ]
  },
  {
   "cell_type": "markdown",
   "id": "64af7e70-cd59-4e70-bcc6-05edfb27c392",
   "metadata": {},
   "source": [
    "# replacing the string"
   ]
  },
  {
   "cell_type": "code",
   "execution_count": 24,
   "id": "7c87d744-8eb6-4e76-84e1-62999e9313fb",
   "metadata": {},
   "outputs": [
    {
     "data": {
      "text/plain": [
       "'hello vivek'"
      ]
     },
     "execution_count": 24,
     "metadata": {},
     "output_type": "execute_result"
    }
   ],
   "source": [
    "my_string.replace(\"world\", \"vivek\")"
   ]
  },
  {
   "cell_type": "code",
   "execution_count": null,
   "id": "d16e0005-4f47-4c5c-a941-02eada00d1d2",
   "metadata": {},
   "outputs": [],
   "source": [
    "a"
   ]
  },
  {
   "cell_type": "code",
   "execution_count": null,
   "id": "9a6dd15b-f064-4423-bc9d-a4bdf21febac",
   "metadata": {},
   "outputs": [],
   "source": []
  }
 ],
 "metadata": {
  "kernelspec": {
   "display_name": "Python 3 (ipykernel)",
   "language": "python",
   "name": "python3"
  },
  "language_info": {
   "codemirror_mode": {
    "name": "ipython",
    "version": 3
   },
   "file_extension": ".py",
   "mimetype": "text/x-python",
   "name": "python",
   "nbconvert_exporter": "python",
   "pygments_lexer": "ipython3",
   "version": "3.10.12"
  }
 },
 "nbformat": 4,
 "nbformat_minor": 5
}
